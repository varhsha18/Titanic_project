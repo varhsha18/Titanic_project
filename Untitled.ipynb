{
 "cells": [
  {
   "cell_type": "code",
   "execution_count": 4,
   "id": "a7b9f48a-7c54-4522-a1f1-84a1d6d278df",
   "metadata": {},
   "outputs": [],
   "source": [
    "import pandas as pd\n",
    "import matplotlib.pyplot as plt"
   ]
  },
  {
   "cell_type": "code",
   "execution_count": 5,
   "id": "e7c3c9a2-7344-4d00-8fd3-d4d8c7cdc941",
   "metadata": {},
   "outputs": [],
   "source": [
    "pd.set_option('display.max_columns', None)\n",
    "pd.set_option('display.max_columns', None)"
   ]
  },
  {
   "cell_type": "code",
   "execution_count": 6,
   "id": "3d71a838-602d-46b5-80da-339987a9aefc",
   "metadata": {},
   "outputs": [],
   "source": [
    "df=pd.read_csv(\"E:\\\\final_titanic _project\\\\titanic\\\\train.csv\")\n",
    "df1=pd.read_csv(\"E:\\\\final_titanic _project\\\\titanic\\\\test.csv\")"
   ]
  },
  {
   "cell_type": "code",
   "execution_count": 7,
   "id": "33d3cd4b-c5c0-4415-b40f-156bb58eb929",
   "metadata": {},
   "outputs": [],
   "source": [
    "df['Name']=df['Name'].str.split(\",\").str.get(1).str.split(\".\").str.get(0)\n",
    "df1['Name']=df1['Name'].str.split(\",\").str.get(1).str.split(\".\").str.get(0)"
   ]
  },
  {
   "cell_type": "code",
   "execution_count": 8,
   "id": "4a6e977a-6be5-41b6-8404-69df747cda4f",
   "metadata": {},
   "outputs": [],
   "source": [
    "#df.drop(columns=['Fare'],inplace=True )\n",
    "#df1.drop(columns=['Fare'],inplace=True )"
   ]
  },
  {
   "cell_type": "markdown",
   "id": "4b374553-317b-42e9-9a97-e18cb7879d45",
   "metadata": {},
   "source": [
    "\n",
    "train_age=np.random.randint(df['Age'].mean()-df['Age'].std(),df['Age'].mean()+df['Age'].std(),177)\n",
    "test_age=np.random.randint(df1['Age'].mean()-df1['Age'].std(),df1['Age'].mean()+df1['Age'].std(),86)\n",
    "df['Age'][df['Age'].isnull()]=train_age\n",
    "df1['Age'][df1['Age'].isnull()]=test_age"
   ]
  },
  {
   "cell_type": "code",
   "execution_count": 9,
   "id": "3733ff6f-7535-42ff-b702-68e8470f3f64",
   "metadata": {},
   "outputs": [],
   "source": [
    "df['family']=df['SibSp']+df['Parch']+1\n",
    "df1['family']=df1['SibSp']+df1['Parch']+1\n"
   ]
  },
  {
   "cell_type": "code",
   "execution_count": 10,
   "id": "5c7d9dc9-632a-4ad0-9661-88ca7cc3fad6",
   "metadata": {},
   "outputs": [],
   "source": [
    "def tit(hhh):\n",
    "     if hhh==1:\n",
    "         return 'Alone'\n",
    "     elif hhh>1 and hhh<5:\n",
    "       return 'Medium'    \n",
    "     else :\n",
    "       return 'Large'    "
   ]
  },
  {
   "cell_type": "code",
   "execution_count": 11,
   "id": "41a395ed-121a-455c-aa63-ab86ad02b0d9",
   "metadata": {},
   "outputs": [],
   "source": [
    "df['family_size']=df['family'].apply(tit)"
   ]
  },
  {
   "cell_type": "code",
   "execution_count": 12,
   "id": "9c1f5fd5-9d5d-4e04-92dd-e9831b957e1b",
   "metadata": {},
   "outputs": [],
   "source": [
    "df1['family_size']=df1['family'].apply(tit)"
   ]
  },
  {
   "cell_type": "code",
   "execution_count": 13,
   "id": "2bf4d8cf-5c46-46ac-9cd2-e1e584ca6b0a",
   "metadata": {},
   "outputs": [],
   "source": [
    "df.drop(columns=['SibSp','Parch','family'],inplace=True )\n",
    "df1.drop(columns=['SibSp','Parch','family'],inplace=True )\n"
   ]
  },
  {
   "cell_type": "code",
   "execution_count": 14,
   "id": "571f190f-c1ed-4e9e-a308-faed6abb4b61",
   "metadata": {},
   "outputs": [],
   "source": [
    "def impute_nan(df,variable):\n",
    "    \n",
    "    df[variable]=df[variable]\n",
    "    ##It will have the random sample to fill the na\n",
    "    random_sample=df[variable].dropna().sample(df[variable].isnull().sum(),random_state=0)\n",
    "    ##pandas need to have same index in order to merge the dataset\n",
    "    random_sample.index=df[df[variable].isnull()].index\n",
    "    df.loc[df[variable].isnull(),variable]=random_sample"
   ]
  },
  {
   "cell_type": "code",
   "execution_count": 15,
   "id": "ced523d5-2f38-4c59-b758-e5aedb9b79ed",
   "metadata": {},
   "outputs": [],
   "source": [
    "impute_nan(df,\"Age\")"
   ]
  },
  {
   "cell_type": "code",
   "execution_count": 16,
   "id": "a7057750-32ed-4427-9ee3-a792b5047e8f",
   "metadata": {},
   "outputs": [
    {
     "data": {
      "text/html": [
       "<div>\n",
       "<style scoped>\n",
       "    .dataframe tbody tr th:only-of-type {\n",
       "        vertical-align: middle;\n",
       "    }\n",
       "\n",
       "    .dataframe tbody tr th {\n",
       "        vertical-align: top;\n",
       "    }\n",
       "\n",
       "    .dataframe thead th {\n",
       "        text-align: right;\n",
       "    }\n",
       "</style>\n",
       "<table border=\"1\" class=\"dataframe\">\n",
       "  <thead>\n",
       "    <tr style=\"text-align: right;\">\n",
       "      <th></th>\n",
       "      <th>PassengerId</th>\n",
       "      <th>Survived</th>\n",
       "      <th>Pclass</th>\n",
       "      <th>Name</th>\n",
       "      <th>Sex</th>\n",
       "      <th>Age</th>\n",
       "      <th>Ticket</th>\n",
       "      <th>Fare</th>\n",
       "      <th>Cabin</th>\n",
       "      <th>Embarked</th>\n",
       "      <th>family_size</th>\n",
       "    </tr>\n",
       "  </thead>\n",
       "  <tbody>\n",
       "    <tr>\n",
       "      <th>0</th>\n",
       "      <td>1</td>\n",
       "      <td>0</td>\n",
       "      <td>3</td>\n",
       "      <td>Mr</td>\n",
       "      <td>male</td>\n",
       "      <td>22.0</td>\n",
       "      <td>A/5 21171</td>\n",
       "      <td>7.2500</td>\n",
       "      <td>NaN</td>\n",
       "      <td>S</td>\n",
       "      <td>Medium</td>\n",
       "    </tr>\n",
       "    <tr>\n",
       "      <th>1</th>\n",
       "      <td>2</td>\n",
       "      <td>1</td>\n",
       "      <td>1</td>\n",
       "      <td>Mrs</td>\n",
       "      <td>female</td>\n",
       "      <td>38.0</td>\n",
       "      <td>PC 17599</td>\n",
       "      <td>71.2833</td>\n",
       "      <td>C85</td>\n",
       "      <td>C</td>\n",
       "      <td>Medium</td>\n",
       "    </tr>\n",
       "    <tr>\n",
       "      <th>2</th>\n",
       "      <td>3</td>\n",
       "      <td>1</td>\n",
       "      <td>3</td>\n",
       "      <td>Miss</td>\n",
       "      <td>female</td>\n",
       "      <td>26.0</td>\n",
       "      <td>STON/O2. 3101282</td>\n",
       "      <td>7.9250</td>\n",
       "      <td>NaN</td>\n",
       "      <td>S</td>\n",
       "      <td>Alone</td>\n",
       "    </tr>\n",
       "    <tr>\n",
       "      <th>3</th>\n",
       "      <td>4</td>\n",
       "      <td>1</td>\n",
       "      <td>1</td>\n",
       "      <td>Mrs</td>\n",
       "      <td>female</td>\n",
       "      <td>35.0</td>\n",
       "      <td>113803</td>\n",
       "      <td>53.1000</td>\n",
       "      <td>C123</td>\n",
       "      <td>S</td>\n",
       "      <td>Medium</td>\n",
       "    </tr>\n",
       "    <tr>\n",
       "      <th>4</th>\n",
       "      <td>5</td>\n",
       "      <td>0</td>\n",
       "      <td>3</td>\n",
       "      <td>Mr</td>\n",
       "      <td>male</td>\n",
       "      <td>35.0</td>\n",
       "      <td>373450</td>\n",
       "      <td>8.0500</td>\n",
       "      <td>NaN</td>\n",
       "      <td>S</td>\n",
       "      <td>Alone</td>\n",
       "    </tr>\n",
       "  </tbody>\n",
       "</table>\n",
       "</div>"
      ],
      "text/plain": [
       "   PassengerId  Survived  Pclass   Name     Sex   Age            Ticket  \\\n",
       "0            1         0       3     Mr    male  22.0         A/5 21171   \n",
       "1            2         1       1    Mrs  female  38.0          PC 17599   \n",
       "2            3         1       3   Miss  female  26.0  STON/O2. 3101282   \n",
       "3            4         1       1    Mrs  female  35.0            113803   \n",
       "4            5         0       3     Mr    male  35.0            373450   \n",
       "\n",
       "      Fare Cabin Embarked family_size  \n",
       "0   7.2500   NaN        S      Medium  \n",
       "1  71.2833   C85        C      Medium  \n",
       "2   7.9250   NaN        S       Alone  \n",
       "3  53.1000  C123        S      Medium  \n",
       "4   8.0500   NaN        S       Alone  "
      ]
     },
     "execution_count": 16,
     "metadata": {},
     "output_type": "execute_result"
    }
   ],
   "source": [
    "df.head()"
   ]
  },
  {
   "cell_type": "code",
   "execution_count": 17,
   "id": "a76d6259-22e7-4aeb-ab57-f4491eb96844",
   "metadata": {},
   "outputs": [],
   "source": [
    "def impute_nan(df,variable):\n",
    "   \n",
    "    df[variable]=df[variable]\n",
    "    ##It will have the random sample to fill the na\n",
    "    random_sample=df[variable].dropna().sample(df[variable].isnull().sum(),random_state=0)\n",
    "    ##pandas need to have same index in order to merge the dataset\n",
    "    random_sample.index=df[df[variable].isnull()].index\n",
    "    df.loc[df[variable].isnull(),variable]=random_sample"
   ]
  },
  {
   "cell_type": "code",
   "execution_count": 18,
   "id": "6f7f27d0-518a-4ca2-8345-12b41f8acdcf",
   "metadata": {},
   "outputs": [],
   "source": [
    "impute_nan(df1,\"Age\")"
   ]
  },
  {
   "cell_type": "code",
   "execution_count": 19,
   "id": "ba2a66b7-e110-48c7-8e35-541e43d7aeda",
   "metadata": {},
   "outputs": [
    {
     "name": "stderr",
     "output_type": "stream",
     "text": [
      "C:\\Users\\Varsha\\AppData\\Local\\Temp\\ipykernel_9616\\24929739.py:2: FutureWarning: A value is trying to be set on a copy of a DataFrame or Series through chained assignment using an inplace method.\n",
      "The behavior will change in pandas 3.0. This inplace method will never work because the intermediate object on which we are setting values always behaves as a copy.\n",
      "\n",
      "For example, when doing 'df[col].method(value, inplace=True)', try using 'df.method({col: value}, inplace=True)' or df[col] = df[col].method(value) instead, to perform the operation inplace on the original object.\n",
      "\n",
      "\n",
      "  df1['Fare'].fillna(kk1[0], inplace=True)\n"
     ]
    }
   ],
   "source": [
    "kk1=df1['Fare'].mode()\n",
    "df1['Fare'].fillna(kk1[0], inplace=True)\n"
   ]
  },
  {
   "cell_type": "code",
   "execution_count": 20,
   "id": "a18aebbd-0034-42d5-8989-2057d8f5d91b",
   "metadata": {},
   "outputs": [
    {
     "name": "stderr",
     "output_type": "stream",
     "text": [
      "C:\\Users\\Varsha\\AppData\\Local\\Temp\\ipykernel_9616\\1333366398.py:2: FutureWarning: A value is trying to be set on a copy of a DataFrame or Series through chained assignment using an inplace method.\n",
      "The behavior will change in pandas 3.0. This inplace method will never work because the intermediate object on which we are setting values always behaves as a copy.\n",
      "\n",
      "For example, when doing 'df[col].method(value, inplace=True)', try using 'df.method({col: value}, inplace=True)' or df[col] = df[col].method(value) instead, to perform the operation inplace on the original object.\n",
      "\n",
      "\n",
      "  df['Embarked'].fillna(kk1[0], inplace=True)\n"
     ]
    }
   ],
   "source": [
    "kk1=df['Embarked'].mode()\n",
    "df['Embarked'].fillna(kk1[0], inplace=True)"
   ]
  },
  {
   "cell_type": "code",
   "execution_count": 21,
   "id": "1f614289-2b18-4e06-8f58-a504c4f7d55d",
   "metadata": {},
   "outputs": [
    {
     "name": "stderr",
     "output_type": "stream",
     "text": [
      "C:\\Users\\Varsha\\AppData\\Local\\Temp\\ipykernel_9616\\798149154.py:2: FutureWarning: A value is trying to be set on a copy of a DataFrame or Series through chained assignment using an inplace method.\n",
      "The behavior will change in pandas 3.0. This inplace method will never work because the intermediate object on which we are setting values always behaves as a copy.\n",
      "\n",
      "For example, when doing 'df[col].method(value, inplace=True)', try using 'df.method({col: value}, inplace=True)' or df[col] = df[col].method(value) instead, to perform the operation inplace on the original object.\n",
      "\n",
      "\n",
      "  df['Cabin'].fillna(kk1[0], inplace=True)\n",
      "C:\\Users\\Varsha\\AppData\\Local\\Temp\\ipykernel_9616\\798149154.py:4: FutureWarning: A value is trying to be set on a copy of a DataFrame or Series through chained assignment using an inplace method.\n",
      "The behavior will change in pandas 3.0. This inplace method will never work because the intermediate object on which we are setting values always behaves as a copy.\n",
      "\n",
      "For example, when doing 'df[col].method(value, inplace=True)', try using 'df.method({col: value}, inplace=True)' or df[col] = df[col].method(value) instead, to perform the operation inplace on the original object.\n",
      "\n",
      "\n",
      "  df1['Cabin'].fillna(kk1[0], inplace=True)\n"
     ]
    }
   ],
   "source": [
    "kk1=df['Cabin'].mode()\n",
    "df['Cabin'].fillna(kk1[0], inplace=True)\n",
    "kk1=df1['Cabin'].mode()\n",
    "df1['Cabin'].fillna(kk1[0], inplace=True)"
   ]
  },
  {
   "cell_type": "code",
   "execution_count": 22,
   "id": "d306ae87-f1dd-41ad-ad00-43a376a4f4fc",
   "metadata": {},
   "outputs": [
    {
     "data": {
      "text/plain": [
       "<Axes: xlabel='Cabin'>"
      ]
     },
     "execution_count": 22,
     "metadata": {},
     "output_type": "execute_result"
    },
    {
     "data": {
      "image/png": "[encoded data removed]",
      "text/plain": [
       "<Figure size 640x480 with 1 Axes>"
      ]
     },
     "metadata": {},
     "output_type": "display_data"
    }
   ],
   "source": [
    "df.groupby(df['Cabin'])['Fare'].mean().head(20).plot(kind='bar')"
   ]
  },
  {
   "cell_type": "code",
   "execution_count": 23,
   "id": "2c9f0943-9a9a-4ca4-aa93-3b61b4e6973c",
   "metadata": {},
   "outputs": [],
   "source": [
    "vv=df1['PassengerId'].values"
   ]
  },
  {
   "cell_type": "code",
   "execution_count": 24,
   "id": "8d9a2da6-01ca-49e6-9e1a-edad61d46080",
   "metadata": {},
   "outputs": [],
   "source": [
    "import numpy as np\n",
    "X = df.drop(columns=['Survived'])\n",
    "y = df['Survived']"
   ]
  },
  {
   "cell_type": "code",
   "execution_count": 25,
   "id": "8a4d2b2b-234a-463f-a6e0-23195cf44ed6",
   "metadata": {},
   "outputs": [],
   "source": [
    "from sklearn.linear_model import LogisticRegression\n",
    "\n",
    "from sklearn.metrics import accuracy_score\n",
    "from sklearn.preprocessing import OneHotEncoder, StandardScaler, OrdinalEncoder\n",
    "from sklearn.pipeline import Pipeline"
   ]
  },
  {
   "cell_type": "code",
   "execution_count": 26,
   "id": "d14d00b3-0bbf-42d3-91ef-a008f80d425f",
   "metadata": {},
   "outputs": [
    {
     "name": "stdout",
     "output_type": "stream",
     "text": [
      "<class 'pandas.core.frame.DataFrame'>\n",
      "RangeIndex: 418 entries, 0 to 417\n",
      "Data columns (total 10 columns):\n",
      " #   Column       Non-Null Count  Dtype  \n",
      "---  ------       --------------  -----  \n",
      " 0   PassengerId  418 non-null    int64  \n",
      " 1   Pclass       418 non-null    int64  \n",
      " 2   Name         418 non-null    object \n",
      " 3   Sex          418 non-null    object \n",
      " 4   Age          418 non-null    float64\n",
      " 5   Ticket       418 non-null    object \n",
      " 6   Fare         418 non-null    float64\n",
      " 7   Cabin        418 non-null    object \n",
      " 8   Embarked     418 non-null    object \n",
      " 9   family_size  418 non-null    object \n",
      "dtypes: float64(2), int64(2), object(6)\n",
      "memory usage: 32.8+ KB\n"
     ]
    }
   ],
   "source": [
    "df1.info()"
   ]
  },
  {
   "cell_type": "code",
   "execution_count": 27,
   "id": "b9e3f20d-c1f0-406d-bf63-b2532e26b7ba",
   "metadata": {},
   "outputs": [],
   "source": [
    "columns_to_encode=[ 'Name','Sex','Ticket','Cabin','Embarked','family_size']"
   ]
  },
  {
   "cell_type": "code",
   "execution_count": 28,
   "id": "5f622ff3-959b-47bf-884a-bd1a64754dde",
   "metadata": {},
   "outputs": [
    {
     "ename": "ModuleNotFoundError",
     "evalue": "No module named 'category_encoders'",
     "output_type": "error",
     "traceback": [
      "\u001b[1;31m---------------------------------------------------------------------------\u001b[0m",
      "\u001b[1;31mModuleNotFoundError\u001b[0m                       Traceback (most recent call last)",
      "Cell \u001b[1;32mIn[28], line 2\u001b[0m\n\u001b[0;32m      1\u001b[0m \u001b[38;5;28;01mfrom\u001b[39;00m \u001b[38;5;21;01msklearn\u001b[39;00m\u001b[38;5;21;01m.\u001b[39;00m\u001b[38;5;21;01mcompose\u001b[39;00m \u001b[38;5;28;01mimport\u001b[39;00m ColumnTransformer\n\u001b[1;32m----> 2\u001b[0m \u001b[38;5;28;01mimport\u001b[39;00m \u001b[38;5;21;01mcategory_encoders\u001b[39;00m \u001b[38;5;28;01mas\u001b[39;00m \u001b[38;5;21;01mce\u001b[39;00m\n\u001b[0;32m      3\u001b[0m column_transformer \u001b[38;5;241m=\u001b[39m ColumnTransformer(\n\u001b[0;32m      4\u001b[0m     transformers\u001b[38;5;241m=\u001b[39m[\n\u001b[0;32m      5\u001b[0m        \n\u001b[1;32m   (...)\u001b[0m\n\u001b[0;32m      8\u001b[0m     remainder\u001b[38;5;241m=\u001b[39m\u001b[38;5;124m'\u001b[39m\u001b[38;5;124mpassthrough\u001b[39m\u001b[38;5;124m'\u001b[39m\n\u001b[0;32m      9\u001b[0m )\n",
      "\u001b[1;31mModuleNotFoundError\u001b[0m: No module named 'category_encoders'"
     ]
    }
   ],
   "source": [
    "from sklearn.compose import ColumnTransformer\n",
    "import category_encoders as ce\n",
    "column_transformer = ColumnTransformer(\n",
    "    transformers=[\n",
    "       \n",
    "        ('cat', OrdinalEncoder(), columns_to_encode)\n",
    "    ], \n",
    "    remainder='passthrough'\n",
    ")"
   ]
  },
  {
   "cell_type": "code",
   "execution_count": null,
   "id": "a1d9b39e-f5f1-4b0d-b893-da31268b5d6f",
   "metadata": {},
   "outputs": [],
   "source": [
    "df1=pd.DataFrame(column_transformer.fit_transform(df1),columns=column_transformer.get_feature_names_out())"
   ]
  },
  {
   "cell_type": "code",
   "execution_count": null,
   "id": "29f2ec86-af7d-4d0c-9754-9d5f6ec2c28b",
   "metadata": {},
   "outputs": [],
   "source": [
    "X=pd.DataFrame(column_transformer.fit_transform(X),columns=column_transformer.get_feature_names_out())"
   ]
  },
  {
   "cell_type": "code",
   "execution_count": null,
   "id": "22cf680c-751a-4430-945a-c51d6173f49d",
   "metadata": {},
   "outputs": [],
   "source": [
    "from sklearn.model_selection import train_test_split\n",
    "X_train,X_test,y_train,y_test = train_test_split(X,y,test_size=0.15,random_state=2)"
   ]
  },
  {
   "cell_type": "code",
   "execution_count": null,
   "id": "29152b19-7c2c-40c8-8cca-9bbe61c0314e",
   "metadata": {},
   "outputs": [],
   "source": [
    "from sklearn.ensemble import RandomForestClassifier  \n",
    "model= RandomForestClassifier(n_estimators=500,max_features=0.75, min_samples_leaf=5, max_depth=9,random_state=9,min_samples_split=12)  "
   ]
  },
  {
   "cell_type": "code",
   "execution_count": null,
   "id": "cfa44a29-92e8-4f2a-9122-fd5b81868960",
   "metadata": {},
   "outputs": [],
   "source": [
    "model.fit(X_train, y_train)\n",
    "\n",
    "#Making predictions on the test set\n",
    "predictions = model.predict(X_test)\n",
    "\n",
    "#Calculating accuracy\n",
    "accuracy = accuracy_score(y_test, predictions)\n",
    "\n",
    "print(\"Accuracy:\", accuracy)"
   ]
  },
  {
   "cell_type": "code",
   "execution_count": null,
   "id": "2a539f70-91ac-4649-9eff-a801ab179efd",
   "metadata": {},
   "outputs": [],
   "source": [
    "y_train_pred = model.predict(X_train)\n",
    "accuracy_score1 = accuracy_score(y_train, y_train_pred)\n",
    "# Predict on the test set and calculate the mean squared error\n",
    "y_test_pred = model.predict(X_test)\n",
    "accuracy_score2 = accuracy_score(y_test, y_test_pred)\n",
    "print(accuracy_score1,accuracy_score2)"
   ]
  },
  {
   "cell_type": "code",
   "execution_count": null,
   "id": "0b0044c7-af98-4934-b320-fe7488f515ea",
   "metadata": {},
   "outputs": [],
   "source": [
    "y_final=model.predict(df1)\n",
    "final=pd.DataFrame()\n",
    "final['PassengerId']=vv\n",
    "final['Survived']=y_final\n",
    "final.to_csv('final9.csv',index=False)"
   ]
  },
  {
   "cell_type": "code",
   "execution_count": null,
   "id": "20818f36-60a9-42c9-9145-ce27a722e0bd",
   "metadata": {},
   "outputs": [],
   "source": []
  },
  {
   "cell_type": "markdown",
   "id": "2be88634-0f7a-4010-9591-525965ba3fc9",
   "metadata": {},
   "source": [
    "y_final=model.predict(df1)\n",
    "y_final=np.exp(y_final)\n",
    "final=pd.DataFrame()\n",
    "final['Id']=vv\n",
    "final['Survived']=y_final\n",
    "final.to_csv('final3.csv',index=False)"
   ]
  },
  {
   "cell_type": "code",
   "execution_count": 778,
   "id": "060aef49-9ab1-4bc4-8ecb-a70c3e980644",
   "metadata": {},
   "outputs": [],
   "source": [
    "from sklearn.ensemble import ExtraTreesClassifier"
   ]
  },
  {
   "cell_type": "code",
   "execution_count": 779,
   "id": "fdb741cf-2865-47d6-846a-6c99231027db",
   "metadata": {},
   "outputs": [],
   "source": [
    "model= ExtraTreesClassifier(n_estimators=200,max_features=.75, min_samples_leaf=5)"
   ]
  },
  {
   "cell_type": "code",
   "execution_count": 780,
   "id": "1c58eed3-846e-43df-ac7e-3a56a62b9f50",
   "metadata": {},
   "outputs": [
    {
     "name": "stdout",
     "output_type": "stream",
     "text": [
      "Accuracy: 0.8059701492537313\n"
     ]
    }
   ],
   "source": [
    "model.fit(X_train, y_train)\n",
    "\n",
    "#Making predictions on the test set\n",
    "predictions = model.predict(X_test)\n",
    "\n",
    "#Calculating accuracy\n",
    "accuracy = accuracy_score(y_test, predictions)\n",
    "\n",
    "print(\"Accuracy:\", accuracy)"
   ]
  },
  {
   "cell_type": "code",
   "execution_count": 781,
   "id": "98c610ff-31f4-4602-a9a9-de0e43c754dd",
   "metadata": {},
   "outputs": [],
   "source": [
    "from sklearn.model_selection import KFold, cross_val_score\n",
    "\n",
    "from sklearn.model_selection import GridSearchCV\n"
   ]
  },
  {
   "cell_type": "code",
   "execution_count": 782,
   "id": "2caedf6b-18e7-4e36-8f9a-3870b9368a65",
   "metadata": {},
   "outputs": [],
   "source": [
    "from sklearn.ensemble import GradientBoostingClassifier"
   ]
  },
  {
   "cell_type": "code",
   "execution_count": 783,
   "id": "2603ad05-27fd-47fa-82ca-6ed98b834fe4",
   "metadata": {},
   "outputs": [],
   "source": [
    "model = GradientBoostingClassifier(n_estimators=300,\n",
    "                                 learning_rate=0.05,\n",
    "                                 random_state=100,\n",
    "                                 max_features=5 )"
   ]
  },
  {
   "cell_type": "code",
   "execution_count": 784,
   "id": "3321f1ac-858c-4cf8-95ed-c2a7e2900fcd",
   "metadata": {},
   "outputs": [
    {
     "name": "stdout",
     "output_type": "stream",
     "text": [
      "Accuracy: 0.8208955223880597\n"
     ]
    }
   ],
   "source": [
    "model.fit(X_train, y_train)\n",
    "\n",
    "#Making predictions on the test set\n",
    "predictions = model.predict(X_test)\n",
    "\n",
    "#Calculating accuracy\n",
    "accuracy = accuracy_score(y_test, predictions)\n",
    "\n",
    "print(\"Accuracy:\", accuracy)"
   ]
  },
  {
   "cell_type": "code",
   "execution_count": 785,
   "id": "f61c3117-7e45-4506-807a-2e9a103e94b0",
   "metadata": {},
   "outputs": [],
   "source": [
    "from sklearn.ensemble import AdaBoostClassifier "
   ]
  },
  {
   "cell_type": "code",
   "execution_count": 786,
   "id": "1a83cccc-17de-4ee4-965e-4ffe6ee16c95",
   "metadata": {},
   "outputs": [],
   "source": [
    "model= AdaBoostClassifier() "
   ]
  },
  {
   "cell_type": "code",
   "execution_count": 787,
   "id": "42588deb-e3ab-4cfa-8583-279fdf1af4e5",
   "metadata": {},
   "outputs": [
    {
     "name": "stderr",
     "output_type": "stream",
     "text": [
      "C:\\Python312\\Lib\\site-packages\\sklearn\\ensemble\\_weight_boosting.py:519: FutureWarning: The SAMME.R algorithm (the default) is deprecated and will be removed in 1.6. Use the SAMME algorithm to circumvent this warning.\n",
      "  warnings.warn(\n"
     ]
    },
    {
     "name": "stdout",
     "output_type": "stream",
     "text": [
      "Accuracy: 0.8059701492537313\n"
     ]
    }
   ],
   "source": [
    "model.fit(X_train, y_train)\n",
    "\n",
    "#Making predictions on the test set\n",
    "predictions = model.predict(X_test)\n",
    "\n",
    "#Calculating accuracy\n",
    "accuracy = accuracy_score(y_test, predictions)\n",
    "\n",
    "print(\"Accuracy:\", accuracy)"
   ]
  },
  {
   "cell_type": "code",
   "execution_count": 788,
   "id": "407b2beb-0683-4316-b818-852eab2866c4",
   "metadata": {},
   "outputs": [],
   "source": [
    "from sklearn.neural_network import MLPClassifier\n",
    "model = MLPClassifier(max_iter=100)"
   ]
  },
  {
   "cell_type": "code",
   "execution_count": 789,
   "id": "b44a0e5c-fddb-45f1-afa2-c0945de1c954",
   "metadata": {},
   "outputs": [
    {
     "name": "stdout",
     "output_type": "stream",
     "text": [
      "Accuracy: 0.6940298507462687\n"
     ]
    }
   ],
   "source": [
    "model.fit(X_train, y_train)\n",
    "\n",
    "#Making predictions on the test set\n",
    "predictions = model.predict(X_test)\n",
    "\n",
    "#Calculating accuracy\n",
    "accuracy = accuracy_score(y_test, predictions)\n",
    "\n",
    "print(\"Accuracy:\", accuracy)"
   ]
  },
  {
   "cell_type": "code",
   "execution_count": 790,
   "id": "1b6e7bce-c76e-4128-bc18-401ac5c56f77",
   "metadata": {},
   "outputs": [
    {
     "name": "stderr",
     "output_type": "stream",
     "text": [
      "C:\\Python312\\Lib\\site-packages\\sklearn\\linear_model\\_logistic.py:469: ConvergenceWarning: lbfgs failed to converge (status=1):\n",
      "STOP: TOTAL NO. of ITERATIONS REACHED LIMIT.\n",
      "\n",
      "Increase the number of iterations (max_iter) or scale the data as shown in:\n",
      "    https://scikit-learn.org/stable/modules/preprocessing.html\n",
      "Please also refer to the documentation for alternative solver options:\n",
      "    https://scikit-learn.org/stable/modules/linear_model.html#logistic-regression\n",
      "  n_iter_i = _check_optimize_result(\n"
     ]
    },
    {
     "data": {
      "text/plain": [
       "0.746268656716418"
      ]
     },
     "execution_count": 790,
     "metadata": {},
     "output_type": "execute_result"
    }
   ],
   "source": [
    "lr = LogisticRegression()\n",
    "\n",
    "lr.fit(X_train,y_train)\n",
    "\n",
    "y_pred = lr.predict(X_test)\n",
    "\n",
    "accuracy_score(y_test,y_pred)"
   ]
  },
  {
   "cell_type": "code",
   "execution_count": null,
   "id": "13969654-cbb3-448e-9ce6-b478a7806f3b",
   "metadata": {},
   "outputs": [],
   "source": []
  },
  {
   "cell_type": "code",
   "execution_count": null,
   "id": "ad1113fa-210b-4651-8524-2ed3e43eb494",
   "metadata": {},
   "outputs": [],
   "source": []
  }
 ],
 "metadata": {
  "kernelspec": {
   "display_name": "Python 3 (ipykernel)",
   "language": "python",
   "name": "python3"
  },
  "language_info": {
   "codemirror_mode": {
    "name": "ipython",
    "version": 3
   },
   "file_extension": ".py",
   "mimetype": "text/x-python",
   "name": "python",
   "nbconvert_exporter": "python",
   "pygments_lexer": "ipython3",
   "version": "3.12.6"
  }
 },
 "nbformat": 4,
 "nbformat_minor": 5
}
